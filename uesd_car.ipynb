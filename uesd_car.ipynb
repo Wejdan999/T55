{
  "nbformat": 4,
  "nbformat_minor": 0,
  "metadata": {
    "colab": {
      "private_outputs": true,
      "provenance": [],
      "authorship_tag": "ABX9TyMjrxgx8SxsqK6BWfsyhH+Z",
      "include_colab_link": true
    },
    "kernelspec": {
      "name": "python3",
      "display_name": "Python 3"
    },
    "language_info": {
      "name": "python"
    }
  },
  "cells": [
    {
      "cell_type": "markdown",
      "metadata": {
        "id": "view-in-github",
        "colab_type": "text"
      },
      "source": [
        "<a href=\"https://colab.research.google.com/github/Wejdan999/T55/blob/main/uesd_car.ipynb\" target=\"_parent\"><img src=\"https://colab.research.google.com/assets/colab-badge.svg\" alt=\"Open In Colab\"/></a>"
      ]
    },
    {
      "cell_type": "markdown",
      "source": [
        "### **Importing**\n"
      ],
      "metadata": {
        "id": "Cr7I80tys4jz"
      }
    },
    {
      "cell_type": "code",
      "execution_count": null,
      "metadata": {
        "id": "j-TcQvvGCI21"
      },
      "outputs": [],
      "source": [
        "import pandas as pd\n",
        "import seaborn as sns\n",
        "import matplotlib.pyplot as plt\n",
        "import numpy as np\n",
        "from sklearn.model_selection import train_test_split"
      ]
    },
    {
      "cell_type": "code",
      "source": [
        "uc=pd.read_csv('/content/Used_Cars.csv')"
      ],
      "metadata": {
        "id": "SLMwnMxnDCfu"
      },
      "execution_count": null,
      "outputs": []
    },
    {
      "cell_type": "markdown",
      "source": [
        "### **Data View**"
      ],
      "metadata": {
        "id": "no-yeK9CsqZ7"
      }
    },
    {
      "cell_type": "code",
      "source": [
        "uc.head()"
      ],
      "metadata": {
        "id": "uUoUeHpwDjUH"
      },
      "execution_count": null,
      "outputs": []
    },
    {
      "cell_type": "code",
      "source": [
        "uc.sample(10)"
      ],
      "metadata": {
        "id": "l9XfrBaCDsGn"
      },
      "execution_count": null,
      "outputs": []
    },
    {
      "cell_type": "code",
      "source": [
        "uc.info()"
      ],
      "metadata": {
        "id": "0CbcwDUAD3yz"
      },
      "execution_count": null,
      "outputs": []
    },
    {
      "cell_type": "code",
      "source": [
        "uc.describe()"
      ],
      "metadata": {
        "id": "ecNSmH3PlTo0"
      },
      "execution_count": null,
      "outputs": []
    },
    {
      "cell_type": "code",
      "source": [
        "uc.query('Seats==0')"
      ],
      "metadata": {
        "id": "spLnkFapl4oy"
      },
      "execution_count": null,
      "outputs": []
    },
    {
      "cell_type": "markdown",
      "source": [
        "### **Duplicate**\n"
      ],
      "metadata": {
        "id": "-OLhOykTteMC"
      }
    },
    {
      "cell_type": "code",
      "source": [
        "uc.duplicated().sum()"
      ],
      "metadata": {
        "id": "N-R7yi95lLNl"
      },
      "execution_count": null,
      "outputs": []
    },
    {
      "cell_type": "code",
      "source": [
        "uc.drop_duplicates(inplace=True)"
      ],
      "metadata": {
        "id": "ZOuY449plP11"
      },
      "execution_count": null,
      "outputs": []
    },
    {
      "cell_type": "markdown",
      "source": [
        "### ** Chicking Outlliers **"
      ],
      "metadata": {
        "id": "SpMUtJCsxi00"
      }
    },
    {
      "cell_type": "code",
      "source": [
        "sns.boxplot(uc[['Kilometers_Driven', 'Year', 'Price']]);"
      ],
      "metadata": {
        "id": "2mzg8pr3xulr"
      },
      "execution_count": null,
      "outputs": []
    },
    {
      "cell_type": "code",
      "source": [
        "Q1= uc['Kilometers_Driven'].quantile(0.25)\n",
        "Q3=uc['Kilometers_Driven'].quantile(0.75)\n",
        "IQR = Q3-Q1\n",
        "lower_bound= Q1 - 1.5 *IQR\n",
        "upper_bound= Q3 + 1.5 * IQR\n",
        "uc = uc[(uc['Kilometers_Driven'] >= lower_bound ) & (uc['Kilometers_Driven']<= upper_bound)]\n"
      ],
      "metadata": {
        "id": "f41jIrqDyQvB"
      },
      "execution_count": null,
      "outputs": []
    },
    {
      "cell_type": "code",
      "source": [
        "sns.boxplot(uc[['Kilometers_Driven', 'Year', 'Price']]);"
      ],
      "metadata": {
        "id": "ogOT_s3fzSU0"
      },
      "execution_count": null,
      "outputs": []
    },
    {
      "cell_type": "markdown",
      "source": [
        "### **Correliation**"
      ],
      "metadata": {
        "id": "letHRKn4t7zX"
      }
    },
    {
      "cell_type": "code",
      "source": [
        "uc['Engine']=uc['Engine'].str.replace('CC','')\n",
        "print(uc['Engine'])"
      ],
      "metadata": {
        "id": "vxoa0cJJEN5q"
      },
      "execution_count": null,
      "outputs": []
    },
    {
      "cell_type": "code",
      "source": [
        "uc['Power']=uc['Power'].str.replace('bhp','')\n",
        "print(uc['Power'])"
      ],
      "metadata": {
        "id": "A6fHIfOfEWTc"
      },
      "execution_count": null,
      "outputs": []
    },
    {
      "cell_type": "code",
      "source": [
        "uc['Mileage']=uc['Mileage'].str.replace('kmpl','')\n",
        "print(uc['Mileage'])"
      ],
      "metadata": {
        "id": "COrsdiH7EaqL"
      },
      "execution_count": null,
      "outputs": []
    },
    {
      "cell_type": "code",
      "source": [
        "uc['Mileage']=uc['Mileage'].str.replace('km/kg','')\n",
        "print(uc['Mileage'])"
      ],
      "metadata": {
        "id": "mdJ4bnwNEgsh"
      },
      "execution_count": null,
      "outputs": []
    },
    {
      "cell_type": "code",
      "source": [
        "uc['Power']=uc['Power'].str.replace('null','75')\n",
        "print(uc['Power'])"
      ],
      "metadata": {
        "id": "1PmNCgxqEtfh"
      },
      "execution_count": null,
      "outputs": []
    },
    {
      "cell_type": "code",
      "source": [
        "uc=uc.astype({'Engine':'float','Power':'float','Mileage':'float'})"
      ],
      "metadata": {
        "id": "sWiT1ew7FiHw"
      },
      "execution_count": null,
      "outputs": []
    },
    {
      "cell_type": "code",
      "source": [
        "uc.info()"
      ],
      "metadata": {
        "id": "DYIDZGIdN9o4"
      },
      "execution_count": null,
      "outputs": []
    },
    {
      "cell_type": "code",
      "source": [
        "uc.corr(numeric_only=True)"
      ],
      "metadata": {
        "id": "DdYziR5wmr3q"
      },
      "execution_count": null,
      "outputs": []
    },
    {
      "cell_type": "code",
      "source": [
        "sns.heatmap(uc.corr(numeric_only=True),annot=True)"
      ],
      "metadata": {
        "id": "3p2yO1yOuunJ"
      },
      "execution_count": null,
      "outputs": []
    },
    {
      "cell_type": "markdown",
      "source": [
        "There is a positive relationship between the engine , the power and the Price"
      ],
      "metadata": {
        "id": "22nUsZCVvFTq"
      }
    },
    {
      "cell_type": "code",
      "source": [
        "uc.head()"
      ],
      "metadata": {
        "id": "HT5CyKbfnlRi"
      },
      "execution_count": null,
      "outputs": []
    },
    {
      "cell_type": "markdown",
      "source": [
        "### **Dealing with nulls**"
      ],
      "metadata": {
        "id": "eimRk7AytO3j"
      }
    },
    {
      "cell_type": "code",
      "source": [
        "uc.isnull().sum()"
      ],
      "metadata": {
        "id": "kpvcEFy4D97M"
      },
      "execution_count": null,
      "outputs": []
    },
    {
      "cell_type": "code",
      "source": [
        "uc= uc.drop('New_Price',axis=1)"
      ],
      "metadata": {
        "id": "fFW7rr3Bmy6L"
      },
      "execution_count": null,
      "outputs": []
    },
    {
      "cell_type": "code",
      "source": [
        "uc['Power'].fillna(uc['Power'].median, inplace=True)\n"
      ],
      "metadata": {
        "id": "S-4TNfqXqA9Z"
      },
      "execution_count": null,
      "outputs": []
    },
    {
      "cell_type": "code",
      "source": [
        "uc['Engine'].fillna(uc['Engine'].median, inplace=True)\n"
      ],
      "metadata": {
        "id": "93YmVdN9rpGN"
      },
      "execution_count": null,
      "outputs": []
    },
    {
      "cell_type": "code",
      "source": [
        "uc['Mileage'].fillna(uc['Mileage'].median, inplace=True)\n"
      ],
      "metadata": {
        "id": "WvPYKOwzr3-5"
      },
      "execution_count": null,
      "outputs": []
    },
    {
      "cell_type": "code",
      "source": [
        "uc['Seats'].fillna(uc['Seats'].median, inplace=True)\n"
      ],
      "metadata": {
        "id": "PrUoW-vFsDI4"
      },
      "execution_count": null,
      "outputs": []
    },
    {
      "cell_type": "code",
      "source": [
        "uc.isnull().sum()"
      ],
      "metadata": {
        "id": "v4vxBp5EsdRu"
      },
      "execution_count": null,
      "outputs": []
    },
    {
      "cell_type": "markdown",
      "source": [
        "### **X and Y **"
      ],
      "metadata": {
        "id": "OFFHsgViv76-"
      }
    },
    {
      "cell_type": "code",
      "source": [
        "X = uc.drop(columns='Price')\n",
        "y = uc[['Price']]"
      ],
      "metadata": {
        "id": "ERXiC2lcv4Gf"
      },
      "execution_count": null,
      "outputs": []
    },
    {
      "cell_type": "markdown",
      "source": [
        "# **Data Splitting**"
      ],
      "metadata": {
        "id": "R7O3DWaZvlDm"
      }
    },
    {
      "cell_type": "code",
      "source": [
        "X_train, X_test, y_train, y_test = train_test_split(X, y, test_size=0.2, random_state=42)"
      ],
      "metadata": {
        "id": "CJclmpUPwdwJ"
      },
      "execution_count": null,
      "outputs": []
    },
    {
      "cell_type": "code",
      "source": [
        "len(X_train)"
      ],
      "metadata": {
        "id": "VooG7v9CxCc0"
      },
      "execution_count": null,
      "outputs": []
    },
    {
      "cell_type": "code",
      "source": [
        "len(y_train)"
      ],
      "metadata": {
        "id": "Bwzeik-HwpzY"
      },
      "execution_count": null,
      "outputs": []
    },
    {
      "cell_type": "code",
      "source": [
        "X_train.hist(figsize=(10,10),bins=50)"
      ],
      "metadata": {
        "id": "MunolIl3xGro"
      },
      "execution_count": null,
      "outputs": []
    },
    {
      "cell_type": "markdown",
      "source": [
        "there is an outllier"
      ],
      "metadata": {
        "id": "zPa7WVEdyS8J"
      }
    },
    {
      "cell_type": "code",
      "source": [
        "X_train.sort_values(by='Year', ascending=True)"
      ],
      "metadata": {
        "id": "MqeUHDnSzlEB"
      },
      "execution_count": null,
      "outputs": []
    },
    {
      "cell_type": "code",
      "source": [
        "#X_train['Engine']=X_train['Engine'].str.replace('CC','')\n",
        "#print(X_train['Engine'])"
      ],
      "metadata": {
        "id": "aOnzJs299Vfx"
      },
      "execution_count": null,
      "outputs": []
    },
    {
      "cell_type": "code",
      "source": [
        "#X_train['Power']=X_train['Power'].str.replace('bhp','')\n",
        "#print(X_train['Power'])"
      ],
      "metadata": {
        "id": "k5s8-dnh94L-"
      },
      "execution_count": null,
      "outputs": []
    },
    {
      "cell_type": "code",
      "source": [
        "#X_train['Power'].mode()"
      ],
      "metadata": {
        "id": "NpS5fL7yBRYm"
      },
      "execution_count": null,
      "outputs": []
    },
    {
      "cell_type": "code",
      "source": [
        "#X_train['Power']=X_train['Power'].str.replace('null','74')\n",
        "#print(X_train['Power'])"
      ],
      "metadata": {
        "id": "fJ2OlWz7A52x"
      },
      "execution_count": null,
      "outputs": []
    },
    {
      "cell_type": "code",
      "source": [
        "#X_train['Power'].isnull().sum()"
      ],
      "metadata": {
        "id": "T4q8UFra_OKK"
      },
      "execution_count": null,
      "outputs": []
    },
    {
      "cell_type": "code",
      "source": [
        "#X_train['Power'].fillna(uc['Power'].mode, inplace=True)"
      ],
      "metadata": {
        "id": "6TY0QsKG_Xue"
      },
      "execution_count": null,
      "outputs": []
    },
    {
      "cell_type": "code",
      "source": [
        "#X_train['Power'].info()"
      ],
      "metadata": {
        "id": "Z581Fmln__ha"
      },
      "execution_count": null,
      "outputs": []
    },
    {
      "cell_type": "code",
      "source": [
        "#X_train['Mileage']=X_train['Mileage'].str.replace('kmpl','')\n",
        "#print(X_train['Mileage'])"
      ],
      "metadata": {
        "id": "ohGpERjQ-CNw"
      },
      "execution_count": null,
      "outputs": []
    },
    {
      "cell_type": "code",
      "source": [
        "#X_train['Mileage']=X_train['Mileage'].str.replace('km/kg','')\n",
        "#print(X_train['Mileage'])"
      ],
      "metadata": {
        "id": "UQyYHYU8-OMm"
      },
      "execution_count": null,
      "outputs": []
    },
    {
      "cell_type": "code",
      "source": [
        "#X_train=X_train.astype({'Engine':'float','Power':'float','Mileage':'float'})"
      ],
      "metadata": {
        "id": "Z0IvhcyJ-Sp-"
      },
      "execution_count": null,
      "outputs": []
    },
    {
      "cell_type": "code",
      "source": [
        "X_train.corr(numeric_only=True)"
      ],
      "metadata": {
        "id": "baZsC6aFBopc"
      },
      "execution_count": null,
      "outputs": []
    },
    {
      "cell_type": "code",
      "source": [
        "sns.heatmap(X_train.corr(numeric_only=True),annot=True)"
      ],
      "metadata": {
        "id": "heMgyQonBzab"
      },
      "execution_count": null,
      "outputs": []
    },
    {
      "cell_type": "code",
      "source": [
        "X_train.shape, y_train.shape"
      ],
      "metadata": {
        "id": "SLb8e3eq26Ms"
      },
      "execution_count": null,
      "outputs": []
    },
    {
      "cell_type": "code",
      "source": [
        "X_train.head(10)"
      ],
      "metadata": {
        "id": "H0CYWgG3Csyh"
      },
      "execution_count": null,
      "outputs": []
    },
    {
      "cell_type": "code",
      "source": [
        "X_train[['Fuel_Type']].value_counts()"
      ],
      "metadata": {
        "id": "xzu5uhosC6j3"
      },
      "execution_count": null,
      "outputs": []
    },
    {
      "cell_type": "code",
      "source": [
        "X_train.isna().sum()"
      ],
      "metadata": {
        "id": "PNAyelhBKIWm"
      },
      "execution_count": null,
      "outputs": []
    },
    {
      "cell_type": "code",
      "source": [
        "X_train.info()"
      ],
      "metadata": {
        "id": "w-6ALsltNm2P"
      },
      "execution_count": null,
      "outputs": []
    },
    {
      "cell_type": "code",
      "source": [
        "X_train[['Engine']].sample(10)"
      ],
      "metadata": {
        "id": "Rv8ELBiMSRzE"
      },
      "execution_count": null,
      "outputs": []
    },
    {
      "source": [
        "from sklearn.pipeline import make_pipeline\n",
        "from sklearn.preprocessing import StandardScaler, OrdinalEncoder\n",
        "from sklearn.compose import ColumnTransformer\n",
        "\n",
        "# Handle unknown categories by ignoring them\n",
        "cat_pipe = make_pipeline(OrdinalEncoder(handle_unknown='use_encoded_value', unknown_value=-1))\n",
        "\n",
        "num_pipe = make_pipeline(StandardScaler())\n",
        "\n",
        "preproce_pipe = ColumnTransformer([(\"num\", num_pipe, ['Engine', 'Power','Year']),\n",
        "                                   (\"cat\", cat_pipe, ['Fuel_Type', 'Name', 'Transmission']),\n",
        "\n",
        "                                  ])\n",
        "\n"
      ],
      "cell_type": "code",
      "metadata": {
        "id": "3AY5pyLPH2QN"
      },
      "execution_count": null,
      "outputs": []
    },
    {
      "source": [
        "# Check for non-numeric values in the 'Engine' column\n",
        "print(X_train['Engine'].apply(type).unique())\n",
        "\n",
        "# Convert the 'Engine' column to numeric, handling errors\n",
        "X_train['Engine'] = pd.to_numeric(X_train['Engine'], errors='coerce')\n",
        "\n",
        "# Fill missing values in 'Engine' with the median\n",
        "# You can also use other strategies like mean or a constant value.\n",
        "X_train['Engine'] = X_train['Engine'].fillna(X_train['Engine'].median())\n",
        "\n",
        "# Fit the model again\n",
        "from sklearn.linear_model import LinearRegression\n",
        "lr = LinearRegression()\n",
        "lr.fit(X_train[['Engine']], y_train)"
      ],
      "cell_type": "code",
      "metadata": {
        "id": "OgFljP3s7ir3"
      },
      "execution_count": null,
      "outputs": []
    },
    {
      "cell_type": "code",
      "source": [
        "lr.score(X_train[['Engine']], y_train)"
      ],
      "metadata": {
        "id": "axgrpMbs77y8"
      },
      "execution_count": null,
      "outputs": []
    },
    {
      "cell_type": "code",
      "source": [
        "lr.coef_"
      ],
      "metadata": {
        "id": "1nw-zJqcJM3p"
      },
      "execution_count": null,
      "outputs": []
    },
    {
      "cell_type": "code",
      "source": [
        "lr.intercept_"
      ],
      "metadata": {
        "id": "2WjZFxrh70jq"
      },
      "execution_count": null,
      "outputs": []
    },
    {
      "cell_type": "code",
      "source": [
        "y_pred = lr.predict(X_train[['Engine']])\n",
        "y_pred"
      ],
      "metadata": {
        "id": "szHAgbFO8DJh"
      },
      "execution_count": null,
      "outputs": []
    },
    {
      "cell_type": "code",
      "source": [
        "y_train"
      ],
      "metadata": {
        "id": "Wf7Gmvht8Ke6"
      },
      "execution_count": null,
      "outputs": []
    },
    {
      "cell_type": "code",
      "source": [
        "from sklearn.metrics import mean_absolute_error\n",
        "mean_absolute_error(y_train, y_pred)"
      ],
      "metadata": {
        "id": "qwywp8aC8PKX"
      },
      "execution_count": null,
      "outputs": []
    }
  ]
}