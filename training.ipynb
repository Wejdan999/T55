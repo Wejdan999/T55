{
  "nbformat": 4,
  "nbformat_minor": 0,
  "metadata": {
    "colab": {
      "private_outputs": true,
      "provenance": [],
      "authorship_tag": "ABX9TyNfngrUkmVX7OzlhP+ICirj",
      "include_colab_link": true
    },
    "kernelspec": {
      "name": "python3",
      "display_name": "Python 3"
    },
    "language_info": {
      "name": "python"
    }
  },
  "cells": [
    {
      "cell_type": "markdown",
      "metadata": {
        "id": "view-in-github",
        "colab_type": "text"
      },
      "source": [
        "<a href=\"https://colab.research.google.com/github/Wejdan999/T55/blob/main/training.ipynb\" target=\"_parent\"><img src=\"https://colab.research.google.com/assets/colab-badge.svg\" alt=\"Open In Colab\"/></a>"
      ]
    },
    {
      "cell_type": "code",
      "execution_count": null,
      "metadata": {
        "id": "nvWQFsCzwfW5"
      },
      "outputs": [],
      "source": [
        "import pandas as pd\n",
        "import numpy as np\n",
        "import seaborn as sns"
      ]
    },
    {
      "cell_type": "code",
      "source": [
        "from google.colab import drive\n",
        "drive.mount ('/content/drive')\n",
        "%cd '/content/drive/My Drive/T5/week 1/Datasets'"
      ],
      "metadata": {
        "id": "MD4SF4NBxNCl"
      },
      "execution_count": null,
      "outputs": []
    },
    {
      "cell_type": "code",
      "source": [
        "tfd = pd.read_csv('Traffic.csv')\n",
        "tfd.info()"
      ],
      "metadata": {
        "id": "iP2zMaE8ycse"
      },
      "execution_count": null,
      "outputs": []
    },
    {
      "cell_type": "code",
      "source": [
        "tfd.head(100)"
      ],
      "metadata": {
        "id": "oU-UwKOCy49u"
      },
      "execution_count": null,
      "outputs": []
    },
    {
      "cell_type": "code",
      "source": [
        "tfd.describe()"
      ],
      "metadata": {
        "id": "BluZZ7XPzDqr"
      },
      "execution_count": null,
      "outputs": []
    },
    {
      "cell_type": "code",
      "source": [
        "numerical_columns = tfd[['CarCount','BikeCount','BusCount','TruckCount','Total']]\n",
        "correlation_matrix = numerical_columns.corr()\n",
        "print(correlation_matrix)"
      ],
      "metadata": {
        "id": "3hphihq83YGO"
      },
      "execution_count": null,
      "outputs": []
    },
    {
      "cell_type": "code",
      "source": [
        "import matplotlib.pyplot as plt\n",
        "\n",
        "plt.figure(figsize=(5,5))\n",
        "\n",
        "sns.heatmap(correlation_matrix, annot=True)\n",
        "plt.title('correlation matrix')\n",
        "plt.show()"
      ],
      "metadata": {
        "id": "VpxVvzz35rjB"
      },
      "execution_count": null,
      "outputs": []
    },
    {
      "cell_type": "code",
      "source": [
        "tfd.head()"
      ],
      "metadata": {
        "id": "qFn47pNFB9wb"
      },
      "execution_count": null,
      "outputs": []
    },
    {
      "cell_type": "code",
      "source": [
        "df = tfd.set_index(['Day of the week'])\n",
        "df.loc[('Monday')]"
      ],
      "metadata": {
        "id": "92fsEtzW8B1Q"
      },
      "execution_count": null,
      "outputs": []
    },
    {
      "cell_type": "code",
      "source": [
        "grouped_data=tfd.groupby(['Day of the week']).agg(\n",
        "    Total_cars=('CarCount','sum'),\n",
        "    Avrage_cars=('CarCount', 'mean'),\n",
        "    Maximum_cars=('CarCount', 'max'),\n",
        "    Minmum_cars=('CarCount','min'),\n",
        "    Count=('CarCount', 'count')\n",
        ")\n",
        "\n",
        "grouped_data"
      ],
      "metadata": {
        "id": "IYFfSH8f_tYB"
      },
      "execution_count": null,
      "outputs": []
    },
    {
      "cell_type": "code",
      "source": [
        "tad=pd.read_csv('Titanic-Dataset.csv')"
      ],
      "metadata": {
        "id": "m_dpgQ-DIFni"
      },
      "execution_count": null,
      "outputs": []
    },
    {
      "cell_type": "code",
      "source": [
        " tad['Age'].fillna(tad['Age'].mean , inplace=True)\n",
        "tad['Age'].isna().sum()"
      ],
      "metadata": {
        "id": "XdkYIq7rIK6m"
      },
      "execution_count": null,
      "outputs": []
    },
    {
      "cell_type": "code",
      "source": [
        "droping_null= tad.dropna(subset=['Embarked'])\n"
      ],
      "metadata": {
        "id": "-9XE4_HULBdo"
      },
      "execution_count": null,
      "outputs": []
    },
    {
      "cell_type": "code",
      "source": [
        "tad.isna().sum()"
      ],
      "metadata": {
        "id": "LLczZOWxLhGJ"
      },
      "execution_count": null,
      "outputs": []
    },
    {
      "cell_type": "code",
      "source": [
        "sns.boxplot(tad['Fare'])"
      ],
      "metadata": {
        "id": "graMaXtKOyl7"
      },
      "execution_count": null,
      "outputs": []
    },
    {
      "cell_type": "code",
      "source": [
        "Q1= tad['Fare'].quantile(0.25)\n",
        "Q3=tad['Fare'].quantile(0.75)\n",
        "IQR = Q3-Q1\n",
        "lower_bound= Q1 - 1.5 *IQR\n",
        "upper_bound= Q3 + 1.5 * IQR\n",
        "tad2 = tad[(tad['Fare'] >= lower_bound ) & (tad['Fare']<= upper_bound)]\n",
        "tad2"
      ],
      "metadata": {
        "id": "_RTSAqA_MXz7"
      },
      "execution_count": null,
      "outputs": []
    },
    {
      "cell_type": "code",
      "source": [
        "sns.boxplot(tad2['Fare'])"
      ],
      "metadata": {
        "id": "4etF305wPJSs"
      },
      "execution_count": null,
      "outputs": []
    },
    {
      "cell_type": "code",
      "source": [
        "from sklearn.preprocessing import StandardScaler, MinMaxScaler, LabelEncoder"
      ],
      "metadata": {
        "id": "8xlmjdWkS5Mk"
      },
      "execution_count": null,
      "outputs": []
    },
    {
      "cell_type": "code",
      "source": [
        "ST_Scaler=StandardScaler()\n",
        "tad['Fare']= ST_Scaler.fit_transform(tad[['Fare']])\n",
        "tad['Fare']"
      ],
      "metadata": {
        "id": "aouL8M-CRsXO"
      },
      "execution_count": null,
      "outputs": []
    },
    {
      "cell_type": "code",
      "source": [
        "MnMx_scaler= MinMaxScaler()\n",
        "tad['Age']= MnMx_scaler.fit_transform(tad[['Age']])\n",
        "tad['Age']"
      ],
      "metadata": {
        "id": "8nb7vo9-S_Tn"
      },
      "execution_count": null,
      "outputs": []
    },
    {
      "cell_type": "code",
      "source": [
        "lable_encoder = LabelEncoder()\n",
        "tad['Sex_Encoded']= lable_encoder.fit_transform(tad['Sex'])\n",
        "print(tad[['Sex_Encoded', 'Sex']])"
      ],
      "metadata": {
        "id": "JMCwNrUIUEe0"
      },
      "execution_count": null,
      "outputs": []
    }
  ]
}