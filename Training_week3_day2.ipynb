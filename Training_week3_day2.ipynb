{
  "nbformat": 4,
  "nbformat_minor": 0,
  "metadata": {
    "colab": {
      "private_outputs": true,
      "provenance": [],
      "authorship_tag": "ABX9TyOLrjx8QcRxMYAO/UgfHxdP",
      "include_colab_link": true
    },
    "kernelspec": {
      "name": "python3",
      "display_name": "Python 3"
    },
    "language_info": {
      "name": "python"
    }
  },
  "cells": [
    {
      "cell_type": "markdown",
      "metadata": {
        "id": "view-in-github",
        "colab_type": "text"
      },
      "source": [
        "<a href=\"https://colab.research.google.com/github/Wejdan999/T55/blob/main/Training_week3_day2.ipynb\" target=\"_parent\"><img src=\"https://colab.research.google.com/assets/colab-badge.svg\" alt=\"Open In Colab\"/></a>"
      ]
    },
    {
      "cell_type": "code",
      "execution_count": null,
      "metadata": {
        "id": "fy-8a_B8bf4O"
      },
      "outputs": [],
      "source": [
        "import pandas as pd\n",
        "from sklearn.datasets import load_iris\n",
        "from sklearn.ensemble import RandomForestClassifier\n",
        "from sklearn.model_selection import train_test_split\n",
        "from sklearn.metrics import accuracy_score\n",
        "from sklearn.ensemble import StackingClassifier,AdaBoostClassifier\n",
        "from sklearn.linear_model import LogisticRegression\n",
        "from sklearn.tree import DecisionTreeClassifier\n",
        "from sklearn.svm import SVC\n",
        "from sklearn.neighbors import KNeighborsClassifier\n",
        "from sklearn.ensemble import RandomForestClassifier, GradientBoostingClassifier\n",
        "from sklearn.preprocessing import LabelEncoder, StandardScaler\n",
        "from sklearn.metrics import accuracy_score\n",
        "from sklearn.datasets import load_wine\n",
        "import numpy as np\n",
        "import warnings\n",
        "warnings.filterwarnings('ignore')\n",
        "from sklearn.ensemble import BaggingClassifier, RandomForestClassifier\n",
        "from xgboost import XGBClassifier\n",
        "from sklearn.metrics import accuracy_score"
      ]
    },
    {
      "cell_type": "markdown",
      "metadata": {
        "id": "3bc0f20e"
      },
      "source": [
        "# Load the dataset\n"
      ]
    },
    {
      "cell_type": "code",
      "execution_count": null,
      "metadata": {
        "id": "47ecb305"
      },
      "outputs": [],
      "source": [
        "url = \"https://archive.ics.uci.edu/ml/machine-learning-databases/adult/adult.data\"\n",
        "columns = ['age', 'workclass', 'fnlwgt', 'education', 'education_num', 'marital_status', 'occupation',\n",
        "           'relationship', 'race', 'sex', 'capital_gain', 'capital_loss', 'hours_per_week', 'native_country', 'income']\n",
        "data = pd.read_csv(url, header=None, names=columns, na_values=' ?')\n"
      ]
    },
    {
      "cell_type": "markdown",
      "metadata": {
        "id": "c0e69164"
      },
      "source": [
        "# Preprocess the data (if necessary)"
      ]
    },
    {
      "cell_type": "code",
      "execution_count": null,
      "metadata": {
        "id": "1c56d9ea"
      },
      "outputs": [],
      "source": [
        "data = data.dropna()\n",
        "\n",
        "data = pd.get_dummies(data, drop_first=True)\n",
        "\n",
        "\n",
        "X = data.drop('income_ >50K', axis=1)\n",
        "y = data['income_ >50K']\n",
        "\n"
      ]
    },
    {
      "cell_type": "markdown",
      "metadata": {
        "id": "2104eb8e"
      },
      "source": [
        "# Split the Dataset"
      ]
    },
    {
      "cell_type": "code",
      "execution_count": null,
      "metadata": {
        "id": "f3a3d4e9"
      },
      "outputs": [],
      "source": [
        "X_train, X_test, y_train, y_test = train_test_split(X, y, test_size=0.20, random_state=42)"
      ]
    },
    {
      "cell_type": "markdown",
      "metadata": {
        "id": "bdcb9a0a"
      },
      "source": [
        "# Initialize and Train the Classifiers"
      ]
    },
    {
      "cell_type": "markdown",
      "metadata": {
        "id": "ea773220"
      },
      "source": [
        "## Random Forest\n",
        "Initialize and train a Random Forest classifier."
      ]
    },
    {
      "cell_type": "code",
      "execution_count": null,
      "metadata": {
        "id": "3e29fd42"
      },
      "outputs": [],
      "source": [
        "random_forest_classifier = RandomForestClassifier(n_estimators=50, random_state=42)\n",
        "random_forest_classifier.fit(X_train, y_train)\n"
      ]
    },
    {
      "cell_type": "code",
      "source": [
        "predictions = random_forest_classifier.predict(X_test)"
      ],
      "metadata": {
        "id": "NmYaEZbLlnex"
      },
      "execution_count": null,
      "outputs": []
    },
    {
      "cell_type": "markdown",
      "metadata": {
        "id": "fb3a2438"
      },
      "source": [
        "### Evaluate the model performance"
      ]
    },
    {
      "cell_type": "code",
      "execution_count": null,
      "metadata": {
        "id": "38d965b4"
      },
      "outputs": [],
      "source": [
        "accuracy = accuracy_score(y_test, predictions)\n",
        "print(f'Random Forest Model Accuracy: {accuracy * 100:.2f}%')"
      ]
    },
    {
      "cell_type": "markdown",
      "metadata": {
        "id": "27ef4327"
      },
      "source": [
        "## Bagging Meta-estimator\n",
        "Initialize a K-Nearest Neighbors classifier and use it as the base estimator for the Bagging classifier."
      ]
    },
    {
      "cell_type": "code",
      "execution_count": null,
      "metadata": {
        "id": "d3a43f7f"
      },
      "outputs": [],
      "source": [
        "base_estimator = KNeighborsClassifier()\n",
        "bagging_classifier = BaggingClassifier(base_estimator, n_estimators=50, random_state=42)\n",
        "\n",
        "bagging_classifier.fit(X_train, y_train)\n",
        "\n"
      ]
    },
    {
      "cell_type": "code",
      "source": [
        "predictions = bagging_classifier.predict(X_test)"
      ],
      "metadata": {
        "id": "0c4PFhkHmAXq"
      },
      "execution_count": null,
      "outputs": []
    },
    {
      "cell_type": "markdown",
      "metadata": {
        "id": "1b8db1eb"
      },
      "source": [
        "### Evaluate the model performance"
      ]
    },
    {
      "cell_type": "code",
      "execution_count": null,
      "metadata": {
        "id": "8697dc13"
      },
      "outputs": [],
      "source": [
        "accuracy = accuracy_score(y_test, predictions)\n",
        "print(f'Bagging Classifier Model Accuracy: {accuracy * 100:.2f}%')"
      ]
    },
    {
      "cell_type": "markdown",
      "metadata": {
        "id": "8768d05e"
      },
      "source": [
        "## Pasting\n",
        "Initialize a Decision Tree classifier and use it as the base estimator for a Bagging classifier with Pasting (without replacement)."
      ]
    },
    {
      "cell_type": "code",
      "execution_count": null,
      "metadata": {
        "id": "2ee558a9"
      },
      "outputs": [],
      "source": [
        "base_estimator = DecisionTreeClassifier()\n",
        "pasting_classifier = BaggingClassifier(base_estimator, n_estimators=50, max_samples=0.7, bootstrap=False, random_state=42)\n",
        "\n",
        "pasting_classifier.fit(X_train, y_train)"
      ]
    },
    {
      "cell_type": "code",
      "source": [
        "predictions = pasting_classifier.predict(X_test)"
      ],
      "metadata": {
        "id": "9Sb2qtIGnFtK"
      },
      "execution_count": null,
      "outputs": []
    },
    {
      "cell_type": "markdown",
      "metadata": {
        "id": "4ff8b204"
      },
      "source": [
        "### Evaluate the model performance"
      ]
    },
    {
      "cell_type": "code",
      "execution_count": null,
      "metadata": {
        "id": "2fd5abd3"
      },
      "outputs": [],
      "source": [
        "accuracy = accuracy_score(y_test, predictions)\n",
        "print(f'Pasting Classifier Model Accuracy: {accuracy * 100:.2f}%')"
      ]
    },
    {
      "cell_type": "markdown",
      "metadata": {
        "id": "1dcdb581"
      },
      "source": [
        "## Roughly Balanced Bagging (RBB)\n",
        "Implement Roughly Balanced Bagging by manually creating balanced bootstrap samples and aggregating predictions from multiple Decision Tree classifiers."
      ]
    },
    {
      "cell_type": "code",
      "execution_count": null,
      "metadata": {
        "id": "21309157"
      },
      "outputs": [],
      "source": [
        "n_estimators = 100\n",
        "\n",
        "ensemble_preds = np.zeros((n_estimators, len(X_test)))\n",
        "ensemble_models = []\n",
        "\n",
        "for i in range(n_estimators):\n",
        "\n",
        "    pos_indices = np.where(y_train == 1)[0]\n",
        "    neg_indices = np.where(y_train == 0)[0]\n",
        "\n",
        "    chosen_pos_indices = np.random.choice(pos_indices, size=len(pos_indices), replace=True)\n",
        "    chosen_neg_indices = np.random.choice(neg_indices, size=len(pos_indices), replace=True)\n",
        "\n",
        "    balanced_sample_indices = np.concatenate([chosen_pos_indices, chosen_neg_indices])\n",
        "    np.random.shuffle(balanced_sample_indices)\n",
        "\n",
        "    X_train_balanced = X_train.iloc[balanced_sample_indices]\n",
        "    y_train_balanced = y_train.iloc[balanced_sample_indices]\n",
        "\n",
        "\n",
        "    tree_clf = DecisionTreeClassifier(random_state=i)\n",
        "    tree_clf.fit(X_train_balanced, y_train_balanced)\n",
        "    ensemble_models.append(tree_clf)\n",
        "\n",
        "\n",
        "\n"
      ]
    },
    {
      "cell_type": "code",
      "source": [
        "ensemble_preds[i] = tree_clf.predict(X_test)"
      ],
      "metadata": {
        "id": "4pbm6R7yoRro"
      },
      "execution_count": null,
      "outputs": []
    },
    {
      "cell_type": "code",
      "source": [
        "final_preds = np.round(np.mean(ensemble_preds, axis=0))"
      ],
      "metadata": {
        "id": "mcGzoTO1oMym"
      },
      "execution_count": null,
      "outputs": []
    },
    {
      "cell_type": "markdown",
      "metadata": {
        "id": "ee97138e"
      },
      "source": [
        "### Evaluate the model performance"
      ]
    },
    {
      "cell_type": "code",
      "execution_count": null,
      "metadata": {
        "id": "c3726ae5"
      },
      "outputs": [],
      "source": [
        "accuracy = accuracy_score(y_test, final_preds)\n",
        "print(f'Roughly Balanced Bagging Model Accuracy: {accuracy:.2f}')\n"
      ]
    },
    {
      "cell_type": "markdown",
      "metadata": {
        "id": "IUZB4tAnmLxP"
      },
      "source": [
        "### Step 2: Load and Preprocess the Dataset\n",
        "Load the dataset and preprocess it. This includes handling missing values, encoding categorical variables, and splitting the data into features and target variables."
      ]
    },
    {
      "cell_type": "code",
      "execution_count": null,
      "metadata": {
        "id": "WVRRXzZDmOBO"
      },
      "outputs": [],
      "source": [
        "url = \"https://archive.ics.uci.edu/ml/machine-learning-databases/00222/bank-additional.zip\"\n",
        "!wget $url\n",
        "!unzip bank-additional.zip\n",
        "data = pd.read_csv('bank-additional/bank-additional-full.csv', delimiter=';') # Load the data\n",
        "data = pd.get_dummies(data, drop_first=True)\n",
        "\n",
        "X = data.drop('y_yes', axis=1)\n",
        "y = data['y_yes']"
      ]
    },
    {
      "cell_type": "markdown",
      "metadata": {
        "id": "Lj1kXkthmcpv"
      },
      "source": [
        "### Step 3: Split the Dataset\n",
        "Split the dataset into training and testing sets to evaluate the performance of the models."
      ]
    },
    {
      "cell_type": "code",
      "execution_count": null,
      "metadata": {
        "id": "kKwDqYYrmeYQ"
      },
      "outputs": [],
      "source": [
        "X_train, X_test, y_train, y_test = train_test_split(X, y, test_size=0.15, random_state=42)"
      ]
    },
    {
      "cell_type": "markdown",
      "metadata": {
        "id": "QkGTqL6OmtXW"
      },
      "source": [
        "### Step 4: Initialize and Train the AdaBoost Classifier\n",
        "Initialize a Decision Tree classifier and use it as the base estimator for the AdaBoost classifier."
      ]
    },
    {
      "cell_type": "code",
      "execution_count": null,
      "metadata": {
        "id": "V9SHMVeFmsfZ"
      },
      "outputs": [],
      "source": [
        "ase_estimator = DecisionTreeClassifier(max_depth=1)\n",
        "adaboost_classifier = AdaBoostClassifier(base_estimator=base_estimator, n_estimators=50, random_state=42)\n",
        "\n",
        "\n",
        "adaboost_classifier.fit(X_train, y_train)"
      ]
    },
    {
      "cell_type": "code",
      "source": [
        "predictions = adaboost_classifier.predict(X_test)\n",
        "\n",
        "accuracy = accuracy_score(y_test, predictions)\n",
        "print(f'AdaBoost Classifier Model Accuracy: {accuracy * 100:.2f}%')"
      ],
      "metadata": {
        "id": "qgQ3CksftGK8"
      },
      "execution_count": null,
      "outputs": []
    },
    {
      "cell_type": "markdown",
      "metadata": {
        "id": "cyHWV9HRm0T0"
      },
      "source": [
        "## XGBoost Tutorial\n"
      ]
    },
    {
      "cell_type": "markdown",
      "metadata": {
        "id": "NXX_PSXSoHmp"
      },
      "source": [
        "### Step 3: Split the Dataset\n",
        "Split the dataset into training and testing sets to evaluate the performance of the models."
      ]
    },
    {
      "cell_type": "code",
      "execution_count": null,
      "metadata": {
        "id": "Cdh8eq8zoIxi"
      },
      "outputs": [],
      "source": [
        "\n",
        "data = pd.get_dummies(data, drop_first=True)\n",
        "\n",
        "X = data.drop('y_yes', axis=1)\n",
        "y = data['y_yes']"
      ]
    },
    {
      "cell_type": "code",
      "source": [
        "X_train, X_test, y_train, y_test = train_test_split(X, y, test_size=0.3, random_state=42)"
      ],
      "metadata": {
        "id": "4szzrMAiuZ4Q"
      },
      "execution_count": null,
      "outputs": []
    },
    {
      "cell_type": "markdown",
      "metadata": {
        "id": "YjBKszY3oN42"
      },
      "source": [
        "### Step 4: Initialize and Train the XGBoost Classifier\n",
        "Initialize and train the XGBoost classifier."
      ]
    },
    {
      "cell_type": "code",
      "execution_count": null,
      "metadata": {
        "id": "zHkLiLENoRPe"
      },
      "outputs": [],
      "source": [
        "xgb_classifier = XGBClassifier(n_estimators=50, random_state=42)\n",
        "xgb_classifier.fit(X_train, y_train)\n"
      ]
    },
    {
      "cell_type": "code",
      "source": [
        "predictions = xgb_classifier.predict(X_test)\n",
        "\n",
        "accuracy = accuracy_score(y_test, predictions)\n",
        "print(f'XGBoost Classifier Model Accuracy: {accuracy * 100:.2f}%')"
      ],
      "metadata": {
        "id": "OftGCvNyuqXv"
      },
      "execution_count": null,
      "outputs": []
    },
    {
      "cell_type": "markdown",
      "metadata": {
        "id": "HC5D5c0hoUVc"
      },
      "source": [
        "## Gradient Boosting Tutorial\n"
      ]
    },
    {
      "cell_type": "markdown",
      "metadata": {
        "id": "lFkcaygKoyCG"
      },
      "source": [
        "###  Initialize and Train the Gradient Boosting Classifier\n",
        "Initialize and train the Gradient Boosting classifier."
      ]
    },
    {
      "cell_type": "code",
      "execution_count": null,
      "metadata": {
        "id": "N4saJTWeoxwV"
      },
      "outputs": [],
      "source": [
        "gradient_boosting_classifier = GradientBoostingClassifier(n_estimators=50, random_state=42)\n",
        "gradient_boosting_classifier.fit(X_train, y_train)\n"
      ]
    },
    {
      "cell_type": "code",
      "source": [
        "predictions = gradient_boosting_classifier.predict(X_test)\n",
        "\n",
        "accuracy = accuracy_score(y_test, predictions)\n",
        "print(f'Gradient Boosting Classifier Model Accuracy: {accuracy * 100:.2f}%')"
      ],
      "metadata": {
        "id": "KjloQrKHdjOh"
      },
      "execution_count": null,
      "outputs": []
    },
    {
      "cell_type": "markdown",
      "metadata": {
        "id": "3ef75dff"
      },
      "source": [
        "### Load the dataset"
      ]
    },
    {
      "cell_type": "code",
      "execution_count": null,
      "metadata": {
        "id": "7c7d5349"
      },
      "outputs": [],
      "source": [
        "url = \"https://raw.githubusercontent.com/jbrownlee/Datasets/master/pima-indians-diabetes.csv\"\n",
        "columns = ['Pregnancies', 'Glucose', 'BloodPressure', 'SkinThickness', 'Insulin', 'BMI', 'DiabetesPedigreeFunction', 'Age', 'Outcome']\n",
        "data = pd.read_csv(url, names=columns)"
      ]
    },
    {
      "cell_type": "markdown",
      "metadata": {
        "id": "0f64fd54"
      },
      "source": [
        "### Preprocess the data (if necessary)"
      ]
    },
    {
      "cell_type": "code",
      "execution_count": null,
      "metadata": {
        "id": "b1f61825"
      },
      "outputs": [],
      "source": [
        "for col in ['Glucose', 'BloodPressure', 'SkinThickness', 'Insulin', 'BMI']:\n",
        "    data[col] = data[col].replace(0, data[col].mean())\n",
        "\n",
        "label_encoder = LabelEncoder()\n",
        "data['Outcome'] = label_encoder.fit_transform(data['Outcome'])\n",
        "\n",
        "\n",
        "X = data.drop('Outcome', axis=1)\n",
        "y = data['Outcome']\n",
        "\n",
        "scaler = StandardScaler()\n",
        "X = scaler.fit_transform(X)"
      ]
    },
    {
      "cell_type": "markdown",
      "metadata": {
        "id": "98485d23"
      },
      "source": [
        "### Split the data"
      ]
    },
    {
      "cell_type": "code",
      "execution_count": null,
      "metadata": {
        "id": "5ec61109"
      },
      "outputs": [],
      "source": [
        "X_train, X_test, y_train, y_test = train_test_split(X, y, test_size=0.15, random_state=12)"
      ]
    },
    {
      "cell_type": "markdown",
      "metadata": {
        "id": "f63bf140"
      },
      "source": [
        "### Implement a stacking model"
      ]
    },
    {
      "cell_type": "code",
      "source": [
        "base_models = [\n",
        "    ('decision_tree', DecisionTreeClassifier(random_state=42)),\n",
        "    ('svc', SVC(probability=True, random_state=42)),\n",
        "    ('knn', KNeighborsClassifier()),\n",
        "    ('random_forest', RandomForestClassifier(random_state=42))\n",
        "]\n",
        "\n",
        "meta_model = LogisticRegression()"
      ],
      "metadata": {
        "id": "tWQ8fApLxFtM"
      },
      "execution_count": null,
      "outputs": []
    },
    {
      "cell_type": "code",
      "execution_count": null,
      "metadata": {
        "id": "41e0e546"
      },
      "outputs": [],
      "source": [
        "stacking_classifier = StackingClassifier(estimators=base_models, final_estimator=meta_model, cv=5)\n",
        "stacking_classifier.fit(X_train, y_train)"
      ]
    },
    {
      "cell_type": "code",
      "source": [
        "predictions = stacking_classifier.predict(X_test)"
      ],
      "metadata": {
        "id": "QyrTBHDxxSia"
      },
      "execution_count": null,
      "outputs": []
    },
    {
      "cell_type": "markdown",
      "metadata": {
        "id": "160be285"
      },
      "source": [
        "### Evaluate the model performance"
      ]
    },
    {
      "cell_type": "code",
      "execution_count": null,
      "metadata": {
        "id": "515c50ec"
      },
      "outputs": [],
      "source": [
        "accuracy = accuracy_score(y_test, predictions)\n",
        "print(f'Stacking Classifier Model Accuracy: {accuracy * 100:.2f}%')"
      ]
    }
  ]
}