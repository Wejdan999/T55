{
  "nbformat": 4,
  "nbformat_minor": 0,
  "metadata": {
    "colab": {
      "provenance": [],
      "include_colab_link": true
    },
    "kernelspec": {
      "name": "python3",
      "display_name": "Python 3"
    },
    "language_info": {
      "name": "python"
    }
  },
  "cells": [
    {
      "cell_type": "markdown",
      "metadata": {
        "id": "view-in-github",
        "colab_type": "text"
      },
      "source": [
        "<a href=\"https://colab.research.google.com/github/Wejdan999/T55/blob/main/Copy_of_SVD_Exercise.ipynb\" target=\"_parent\"><img src=\"https://colab.research.google.com/assets/colab-badge.svg\" alt=\"Open In Colab\"/></a>"
      ]
    },
    {
      "cell_type": "markdown",
      "source": [
        "#**SVD**"
      ],
      "metadata": {
        "id": "0PzxgQHw9ccz"
      }
    },
    {
      "cell_type": "markdown",
      "source": [
        "#import libraries"
      ],
      "metadata": {
        "id": "luFPiQ2i9myX"
      }
    },
    {
      "cell_type": "code",
      "execution_count": 1,
      "metadata": {
        "id": "G-4zglvy9WkS"
      },
      "outputs": [],
      "source": [
        "import numpy as np"
      ]
    },
    {
      "cell_type": "markdown",
      "source": [
        "#Load the tabular dataset :\n",
        "\n",
        "dataset :\n",
        "\n",
        "\n",
        "    [1, 2, 1, 0, 4],\n",
        "\n",
        "    [2, 3, 4, 0, 2],\n",
        "\n",
        "    [3, 1, 1, 0, 5],\n",
        "\n",
        "    [4, 0, 2, 5, 0],\n",
        "\n",
        "    [5, 4, 0, 1, 2]\n"
      ],
      "metadata": {
        "id": "nZFDaio79sgu"
      }
    },
    {
      "cell_type": "code",
      "source": [
        "dataset = np.array([[1, 2, 1, 0, 4],\n",
        "\n",
        "[2, 3, 4, 0, 2],\n",
        "\n",
        "[3, 1, 1, 0, 5],\n",
        "\n",
        "[4, 0, 2, 5, 0],\n",
        "\n",
        "[5, 4, 0, 1, 2]])"
      ],
      "metadata": {
        "id": "MQ009CYG9qQS"
      },
      "execution_count": 2,
      "outputs": []
    },
    {
      "cell_type": "markdown",
      "source": [
        "#Perform Singular Value Decomposition (SVD)\n"
      ],
      "metadata": {
        "id": "2roOK1gZ9yQo"
      }
    },
    {
      "cell_type": "code",
      "source": [
        "U, s, VT = np.linalg.svd(dataset)"
      ],
      "metadata": {
        "id": "0I7M_W_E9vka"
      },
      "execution_count": 3,
      "outputs": []
    },
    {
      "cell_type": "markdown",
      "source": [
        "# Extract the singular values and vectors"
      ],
      "metadata": {
        "id": "5ygCLQNt96Vb"
      }
    },
    {
      "cell_type": "code",
      "source": [
        "singular_values = np.diag(s)\n",
        "left_singular_vectors = U\n",
        "right_singular_vectors = VT.T\n"
      ],
      "metadata": {
        "id": "d_hE13Sn94k5"
      },
      "execution_count": 4,
      "outputs": []
    },
    {
      "cell_type": "markdown",
      "source": [
        "# Perform dimensionality reduction by selecting top k singular values and vectors\n"
      ],
      "metadata": {
        "id": "piU0jgug9_gD"
      }
    },
    {
      "cell_type": "code",
      "source": [
        "k = 4\n",
        "reduced_dataset = np.dot(np.dot(left_singular_vectors[:, :k], singular_values[:k, :k]), right_singular_vectors[:, :k].T)"
      ],
      "metadata": {
        "id": "c55uNNCH9-5d"
      },
      "execution_count": 5,
      "outputs": []
    },
    {
      "cell_type": "markdown",
      "source": [
        "# Print the original and reduced datasets\n"
      ],
      "metadata": {
        "id": "4raXfdzz-Gex"
      }
    },
    {
      "cell_type": "code",
      "source": [
        "print(\"Original Dataset:\")\n",
        "print(dataset)\n",
        "print(\"\\nReduced Dataset:\")\n",
        "print(reduced_dataset)"
      ],
      "metadata": {
        "id": "c7YIIN3S-DTl",
        "outputId": "46c8b902-35f5-41eb-9d9b-f54956c26179",
        "colab": {
          "base_uri": "https://localhost:8080/"
        }
      },
      "execution_count": 6,
      "outputs": [
        {
          "output_type": "stream",
          "name": "stdout",
          "text": [
            "Original Dataset:\n",
            "[[1 2 1 0 4]\n",
            " [2 3 4 0 2]\n",
            " [3 1 1 0 5]\n",
            " [4 0 2 5 0]\n",
            " [5 4 0 1 2]]\n",
            "\n",
            "Reduced Dataset:\n",
            "[[ 1.51747498e+00  1.55874271e+00  1.19757748e+00 -5.17632763e-01\n",
            "   3.84336465e+00]\n",
            " [ 1.87733335e+00  3.10459937e+00  3.95316456e+00  1.22704056e-01\n",
            "   2.03713017e+00]\n",
            " [ 2.65747194e+00  1.29207789e+00  8.69219125e-01  3.42632498e-01\n",
            "   5.10368038e+00]\n",
            " [ 4.08023363e+00 -6.84162057e-02  2.03063406e+00  4.91974190e+00\n",
            "  -2.42860501e-02]\n",
            " [ 5.00557730e+00  3.99524417e+00  2.12947231e-03  9.94421001e-01\n",
            "   1.99831180e+00]]\n"
          ]
        }
      ]
    },
    {
      "cell_type": "markdown",
      "source": [
        "#**Well done :)**"
      ],
      "metadata": {
        "id": "ASLB0yos-Ofm"
      }
    }
  ]
}