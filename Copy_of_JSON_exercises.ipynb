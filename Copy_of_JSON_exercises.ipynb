{
  "cells": [
    {
      "cell_type": "markdown",
      "metadata": {
        "id": "view-in-github",
        "colab_type": "text"
      },
      "source": [
        "<a href=\"https://colab.research.google.com/github/Wejdan999/T55/blob/main/Copy_of_JSON_exercises.ipynb\" target=\"_parent\"><img src=\"https://colab.research.google.com/assets/colab-badge.svg\" alt=\"Open In Colab\"/></a>"
      ]
    },
    {
      "cell_type": "markdown",
      "id": "6b5c524a",
      "metadata": {
        "id": "6b5c524a"
      },
      "source": [
        "# JSON Practice Exercises\n",
        "\n",
        "These exercises will help you practice working with JSON in Python."
      ]
    },
    {
      "cell_type": "markdown",
      "id": "530fc65c",
      "metadata": {
        "id": "530fc65c"
      },
      "source": [
        "## Exercise 1: Converting Python Objects to JSON\n",
        "\n",
        "Create a Python dictionary representing a book with the following attributes:\n",
        "- title\n",
        "- author\n",
        "- year\n",
        "\n",
        "Convert this dictionary to a JSON string using `json.dumps()` and print the result."
      ]
    },
    {
      "cell_type": "code",
      "source": [
        "import json"
      ],
      "metadata": {
        "id": "tJhpqGJlRvs0"
      },
      "id": "tJhpqGJlRvs0",
      "execution_count": null,
      "outputs": []
    },
    {
      "cell_type": "code",
      "execution_count": null,
      "id": "f74a5ed5",
      "metadata": {
        "id": "f74a5ed5",
        "outputId": "610f3893-1ec5-4870-9c5b-d8716a4f7d3f",
        "colab": {
          "base_uri": "https://localhost:8080/"
        }
      },
      "outputs": [
        {
          "output_type": "stream",
          "name": "stdout",
          "text": [
            "{\"title\": \"world\", \"author\": \"steven\", \"year\": 2020}\n"
          ]
        }
      ],
      "source": [
        "# Your code here\n",
        "python_dec={'title':'world', 'author':'steven','year':2020}\n",
        "Json_dec= json.dumps(python_dec)\n",
        "print(Json_dec)"
      ]
    },
    {
      "cell_type": "markdown",
      "id": "84799d52",
      "metadata": {
        "id": "84799d52"
      },
      "source": [
        "## Exercise 2: Converting JSON to Python Objects\n",
        "\n",
        "Given the following JSON string:\n",
        "```json\n",
        "'{\"name\": \"Alice\", \"age\": 25, \"city\": \"Wonderland\"}'\n",
        "```\n",
        "Convert this JSON string to a Python dictionary using `json.loads()` and print the result."
      ]
    },
    {
      "cell_type": "code",
      "execution_count": null,
      "id": "a2ba7ced",
      "metadata": {
        "id": "a2ba7ced",
        "outputId": "9e639683-cd96-4ed7-e6da-4fb99e3ab25a",
        "colab": {
          "base_uri": "https://localhost:8080/"
        }
      },
      "outputs": [
        {
          "output_type": "stream",
          "name": "stdout",
          "text": [
            "{'name': 'Alice', 'age': 25, 'city': 'Wonderland'}\n"
          ]
        }
      ],
      "source": [
        "# Your code here\n",
        "dect_json ='{\"name\": \"Alice\", \"age\": 25, \"city\": \"Wonderland\"}'\n",
        "dect_python = json.loads(dect_json)\n",
        "print(dect_python)"
      ]
    },
    {
      "cell_type": "markdown",
      "id": "e291d203",
      "metadata": {
        "id": "e291d203"
      },
      "source": [
        "## Exercise 3: Reading JSON from a File\n",
        "\n",
        "Write a Python script to read the following JSON data from a file named `data.json` and print it:\n",
        "```json\n",
        "{\n",
        "    \"name\": \"Bob\",\n",
        "    \"age\": 22,\n",
        "    \"city\": \"Paris\"\n",
        "}\n",
        "```"
      ]
    },
    {
      "source": [
        "# Your code here\n",
        "rdj={\n",
        "    \"name\": \"Bob\",\n",
        "    \"age\": 22,\n",
        "    \"city\": \"Paris\"}\n",
        "\n",
        "with open ('rdj.json','w') as file:\n",
        "  json.dump(rdj, file)\n",
        "\n",
        "with open ('rdj.json','r') as file:\n",
        "  reed_json= json.load(file)\n",
        "  print(reed_json)"
      ],
      "cell_type": "code",
      "metadata": {
        "id": "Tmjqbs8fVkqk",
        "outputId": "a478607b-0cce-4a12-b972-fab24a8137fc",
        "colab": {
          "base_uri": "https://localhost:8080/"
        }
      },
      "id": "Tmjqbs8fVkqk",
      "execution_count": null,
      "outputs": [
        {
          "output_type": "stream",
          "name": "stdout",
          "text": [
            "{'name': 'Bob', 'age': 22, 'city': 'Paris'}\n"
          ]
        }
      ]
    },
    {
      "cell_type": "markdown",
      "id": "7b83b8f8",
      "metadata": {
        "id": "7b83b8f8"
      },
      "source": [
        "## Exercise 4: Writing JSON to a File\n",
        "\n",
        "Create a Python dictionary representing a student with the following attributes:\n",
        "- name\n",
        "- grade\n",
        "- subjects (a list of subjects)\n",
        "\n",
        "Write this dictionary to a JSON file named `student.json` using `json.dump()`."
      ]
    },
    {
      "cell_type": "code",
      "execution_count": null,
      "id": "96c1b087",
      "metadata": {
        "id": "96c1b087",
        "outputId": "74f10e1a-af9b-499b-e288-36d7097a300f",
        "colab": {
          "base_uri": "https://localhost:8080/"
        }
      },
      "outputs": [
        {
          "output_type": "stream",
          "name": "stdout",
          "text": [
            "{'name': 'Bob', 'grade': ['A', 'B', 'C', 'D', 'F'], 'subjects': ['English', 'Math', 'Programming', 'Scinces']}\n"
          ]
        }
      ],
      "source": [
        "# Your code here\n",
        "student={\n",
        "    'name': 'Bob',\n",
        "    'grade': ['A','B','C','D','F'],\n",
        "    'subjects': ['English','Math','Programming','Scinces' ]}\n",
        "\n",
        "with open ('student.json','w') as file:\n",
        "  json.dump(student, file)\n",
        "\n",
        "with open ('student.json','r') as file:\n",
        "  reed_json= json.load(file)\n",
        "  print(reed_json)"
      ]
    },
    {
      "cell_type": "markdown",
      "id": "7d9b3849",
      "metadata": {
        "id": "7d9b3849"
      },
      "source": [
        "## Exercise 5: Pretty Printing JSON\n",
        "\n",
        "Given a Python dictionary representing a movie with the following attributes:\n",
        "- title\n",
        "- director\n",
        "- year\n",
        "- genre\n",
        "\n",
        "Convert this dictionary to a JSON string with indentation using `json.dumps()` and print the result."
      ]
    },
    {
      "cell_type": "code",
      "execution_count": null,
      "id": "cfe017d4",
      "metadata": {
        "id": "cfe017d4",
        "outputId": "79d6fe16-5c9e-441c-e15e-897200ccbf15",
        "colab": {
          "base_uri": "https://localhost:8080/"
        }
      },
      "outputs": [
        {
          "output_type": "stream",
          "name": "stdout",
          "text": [
            "{\n",
            "    \"title\": \"BLACK Houses\",\n",
            "    \"director\": \"Steve\",\n",
            "    \"year\": 2020,\n",
            "    \"genre\": \"Horror\"\n",
            "}\n"
          ]
        }
      ],
      "source": [
        "# Your code here\n",
        "py_dec={'title':'BLACK Houses','director':'Steve', 'year':2020, 'genre':'Horror'}\n",
        "PPJson=json.dumps(py_dec, indent=4)\n",
        "print(PPJson)"
      ]
    }
  ],
  "metadata": {
    "colab": {
      "provenance": [],
      "include_colab_link": true
    },
    "language_info": {
      "name": "python"
    },
    "kernelspec": {
      "name": "python3",
      "display_name": "Python 3"
    }
  },
  "nbformat": 4,
  "nbformat_minor": 5
}